{
  "nbformat": 4,
  "nbformat_minor": 0,
  "metadata": {
    "colab": {
      "name": "Thomson_sampling.ipynb",
      "provenance": [],
      "authorship_tag": "ABX9TyO5xBppNWpDXGnuKlc1Afpf",
      "include_colab_link": true
    },
    "kernelspec": {
      "name": "python3",
      "display_name": "Python 3"
    }
  },
  "cells": [
    {
      "cell_type": "markdown",
      "metadata": {
        "id": "view-in-github",
        "colab_type": "text"
      },
      "source": [
        "<a href=\"https://colab.research.google.com/github/gilfoyle777/Artificial-Intelligence/blob/master/Thomson_sampling.ipynb\" target=\"_parent\"><img src=\"https://colab.research.google.com/assets/colab-badge.svg\" alt=\"Open In Colab\"/></a>"
      ]
    },
    {
      "cell_type": "code",
      "metadata": {
        "id": "jJmzk8TaPvNk",
        "colab_type": "code",
        "colab": {}
      },
      "source": [
        "import numpy as np\n",
        "import pandas as pd\n",
        "import random\n",
        "import matplotlib.pyplot as plt\n",
        "%matplotlib inline\n",
        "\n"
      ],
      "execution_count": 81,
      "outputs": []
    },
    {
      "cell_type": "code",
      "metadata": {
        "id": "5N2gBBCGP4lL",
        "colab_type": "code",
        "colab": {
          "base_uri": "https://localhost:8080/",
          "height": 419
        },
        "outputId": "c722feca-a17b-4ba1-d96d-a6f13793137d"
      },
      "source": [
        "lst={}\n",
        "lst['S1']=[random.randint(0,1) for i in range(1000)]\n",
        "lst['S2']=[random.randint(0,1) for j in range(1000)]\n",
        "lst['S3']=[random.randint(0,1) for k in range(1000)]\n",
        "lst['S4']=[random.randint(0,1) for l in range(1000)]\n",
        "lst['S5']=[random.randint(0,1) for n in range(1000)]\n",
        "dataset=pd.DataFrame(lst)\n",
        "dataset\n"
      ],
      "execution_count": 82,
      "outputs": [
        {
          "output_type": "execute_result",
          "data": {
            "text/html": [
              "<div>\n",
              "<style scoped>\n",
              "    .dataframe tbody tr th:only-of-type {\n",
              "        vertical-align: middle;\n",
              "    }\n",
              "\n",
              "    .dataframe tbody tr th {\n",
              "        vertical-align: top;\n",
              "    }\n",
              "\n",
              "    .dataframe thead th {\n",
              "        text-align: right;\n",
              "    }\n",
              "</style>\n",
              "<table border=\"1\" class=\"dataframe\">\n",
              "  <thead>\n",
              "    <tr style=\"text-align: right;\">\n",
              "      <th></th>\n",
              "      <th>S1</th>\n",
              "      <th>S2</th>\n",
              "      <th>S3</th>\n",
              "      <th>S4</th>\n",
              "      <th>S5</th>\n",
              "    </tr>\n",
              "  </thead>\n",
              "  <tbody>\n",
              "    <tr>\n",
              "      <th>0</th>\n",
              "      <td>1</td>\n",
              "      <td>1</td>\n",
              "      <td>0</td>\n",
              "      <td>0</td>\n",
              "      <td>1</td>\n",
              "    </tr>\n",
              "    <tr>\n",
              "      <th>1</th>\n",
              "      <td>0</td>\n",
              "      <td>0</td>\n",
              "      <td>1</td>\n",
              "      <td>0</td>\n",
              "      <td>1</td>\n",
              "    </tr>\n",
              "    <tr>\n",
              "      <th>2</th>\n",
              "      <td>1</td>\n",
              "      <td>1</td>\n",
              "      <td>0</td>\n",
              "      <td>0</td>\n",
              "      <td>1</td>\n",
              "    </tr>\n",
              "    <tr>\n",
              "      <th>3</th>\n",
              "      <td>1</td>\n",
              "      <td>0</td>\n",
              "      <td>1</td>\n",
              "      <td>0</td>\n",
              "      <td>1</td>\n",
              "    </tr>\n",
              "    <tr>\n",
              "      <th>4</th>\n",
              "      <td>1</td>\n",
              "      <td>0</td>\n",
              "      <td>0</td>\n",
              "      <td>0</td>\n",
              "      <td>1</td>\n",
              "    </tr>\n",
              "    <tr>\n",
              "      <th>...</th>\n",
              "      <td>...</td>\n",
              "      <td>...</td>\n",
              "      <td>...</td>\n",
              "      <td>...</td>\n",
              "      <td>...</td>\n",
              "    </tr>\n",
              "    <tr>\n",
              "      <th>995</th>\n",
              "      <td>1</td>\n",
              "      <td>0</td>\n",
              "      <td>0</td>\n",
              "      <td>0</td>\n",
              "      <td>0</td>\n",
              "    </tr>\n",
              "    <tr>\n",
              "      <th>996</th>\n",
              "      <td>0</td>\n",
              "      <td>0</td>\n",
              "      <td>1</td>\n",
              "      <td>1</td>\n",
              "      <td>0</td>\n",
              "    </tr>\n",
              "    <tr>\n",
              "      <th>997</th>\n",
              "      <td>0</td>\n",
              "      <td>1</td>\n",
              "      <td>1</td>\n",
              "      <td>1</td>\n",
              "      <td>0</td>\n",
              "    </tr>\n",
              "    <tr>\n",
              "      <th>998</th>\n",
              "      <td>0</td>\n",
              "      <td>0</td>\n",
              "      <td>1</td>\n",
              "      <td>1</td>\n",
              "      <td>0</td>\n",
              "    </tr>\n",
              "    <tr>\n",
              "      <th>999</th>\n",
              "      <td>1</td>\n",
              "      <td>1</td>\n",
              "      <td>1</td>\n",
              "      <td>1</td>\n",
              "      <td>0</td>\n",
              "    </tr>\n",
              "  </tbody>\n",
              "</table>\n",
              "<p>1000 rows × 5 columns</p>\n",
              "</div>"
            ],
            "text/plain": [
              "     S1  S2  S3  S4  S5\n",
              "0     1   1   0   0   1\n",
              "1     0   0   1   0   1\n",
              "2     1   1   0   0   1\n",
              "3     1   0   1   0   1\n",
              "4     1   0   0   0   1\n",
              "..   ..  ..  ..  ..  ..\n",
              "995   1   0   0   0   0\n",
              "996   0   0   1   1   0\n",
              "997   0   1   1   1   0\n",
              "998   0   0   1   1   0\n",
              "999   1   1   1   1   0\n",
              "\n",
              "[1000 rows x 5 columns]"
            ]
          },
          "metadata": {
            "tags": []
          },
          "execution_count": 82
        }
      ]
    },
    {
      "cell_type": "code",
      "metadata": {
        "id": "9PSVccp0Oz2g",
        "colab_type": "code",
        "colab": {}
      },
      "source": [
        "nslots=5\n",
        "ntrials=1000\n",
        "slot_selected=[]\n",
        "rewards=[0]*nslots\n",
        "no_rewards=[0]*nslots\n",
        "total_rewards=0\n"
      ],
      "execution_count": 105,
      "outputs": []
    },
    {
      "cell_type": "code",
      "metadata": {
        "id": "bY1tZszFPjlt",
        "colab_type": "code",
        "colab": {}
      },
      "source": [
        "for n in range(0,ntrials):\n",
        "  robber=0\n",
        "  beta_max=0\n",
        "  \n",
        "  for d in range(0,nslots):\n",
        "    beta=random.betavariate(rewards[d]+1,no_rewards[d]+1)\n",
        "    \n",
        "    if beta > beta_max:\n",
        "      beta_max=beta\n",
        "      robber=d\n",
        "  slot_selected.append(robber)\n",
        "  reward=dataset.values[n,robber]\n",
        "  if reward==1:\n",
        "    rewards[robber]=rewards[robber]+1\n",
        "  else:\n",
        "      no_rewards[robber]=no_rewards[robber]+1\n",
        "  total_rewards+=reward"
      ],
      "execution_count": 106,
      "outputs": []
    },
    {
      "cell_type": "code",
      "metadata": {
        "id": "5t3Ahy-TPj18",
        "colab_type": "code",
        "colab": {
          "base_uri": "https://localhost:8080/",
          "height": 122
        },
        "outputId": "ef2a849b-260a-40aa-afeb-362d92351486"
      },
      "source": [
        "print(\"\\n Slot Machine Selected at each round :{} \\n The total number of rewards by this slot machine is {}\".format(slot_selected,total_rewards))\n",
        "print(\"\\n Rewards by Each Machine : \",rewards)\n"
      ],
      "execution_count": 110,
      "outputs": [
        {
          "output_type": "stream",
          "text": [
            "\n",
            " Slot Machine Selected at each round :[3, 3, 2, 2, 3, 4, 1, 4, 1, 1, 0, 1, 1, 1, 2, 1, 1, 2, 1, 1, 0, 1, 1, 1, 1, 1, 1, 2, 0, 1, 1, 1, 1, 4, 1, 1, 1, 1, 1, 1, 1, 1, 1, 1, 1, 0, 0, 1, 1, 1, 1, 1, 1, 0, 1, 1, 1, 1, 1, 1, 1, 0, 1, 1, 1, 1, 0, 1, 1, 1, 1, 0, 1, 1, 2, 0, 1, 2, 1, 1, 0, 2, 2, 0, 3, 1, 1, 2, 2, 1, 1, 1, 0, 0, 2, 1, 0, 2, 1, 1, 2, 1, 2, 2, 2, 2, 0, 0, 1, 1, 1, 1, 1, 1, 0, 0, 1, 3, 1, 1, 1, 0, 1, 1, 2, 0, 0, 2, 1, 1, 0, 1, 1, 0, 4, 3, 1, 0, 1, 0, 1, 1, 2, 3, 1, 2, 1, 0, 1, 3, 1, 2, 0, 0, 2, 2, 2, 1, 0, 4, 1, 1, 0, 1, 1, 3, 4, 3, 0, 1, 1, 4, 0, 1, 1, 0, 1, 1, 1, 0, 1, 0, 0, 1, 0, 3, 0, 2, 1, 4, 0, 4, 0, 1, 1, 2, 1, 1, 0, 0, 0, 1, 0, 4, 0, 1, 0, 0, 0, 1, 4, 1, 4, 4, 0, 0, 1, 1, 3, 2, 4, 1, 2, 4, 0, 4, 2, 0, 1, 4, 4, 4, 2, 0, 1, 2, 4, 2, 1, 4, 0, 0, 4, 1, 1, 2, 1, 1, 2, 2, 1, 2, 4, 1, 1, 1, 3, 2, 4, 4, 1, 0, 4, 4, 0, 0, 2, 4, 4, 2, 0, 3, 3, 3, 2, 2, 4, 1, 2, 2, 1, 2, 0, 1, 3, 3, 4, 1, 2, 0, 4, 2, 2, 0, 3, 3, 0, 0, 0, 2, 4, 3, 4, 3, 0, 0, 4, 2, 2, 2, 1, 4, 2, 2, 1, 0, 0, 2, 1, 1, 3, 0, 1, 0, 4, 1, 4, 3, 3, 3, 3, 3, 0, 0, 3, 0, 2, 4, 1, 4, 4, 1, 3, 0, 0, 0, 1, 1, 0, 0, 1, 1, 1, 0, 4, 1, 1, 1, 3, 0, 4, 4, 2, 0, 0, 0, 0, 0, 4, 0, 2, 0, 0, 3, 1, 3, 1, 1, 4, 1, 1, 3, 1, 1, 3, 2, 0, 1, 3, 1, 2, 1, 4, 1, 3, 0, 0, 1, 2, 3, 2, 2, 1, 4, 3, 0, 4, 1, 2, 1, 4, 3, 0, 0, 3, 2, 1, 1, 3, 0, 1, 0, 2, 0, 2, 1, 3, 2, 1, 0, 3, 4, 4, 1, 1, 0, 0, 0, 1, 1, 1, 0, 1, 1, 2, 3, 1, 0, 1, 0, 0, 0, 4, 0, 4, 0, 4, 0, 2, 0, 1, 4, 0, 4, 3, 1, 4, 3, 4, 1, 1, 4, 0, 0, 0, 0, 0, 3, 1, 3, 4, 0, 4, 4, 1, 1, 1, 3, 1, 4, 2, 4, 4, 0, 0, 0, 0, 1, 4, 2, 0, 4, 0, 4, 0, 4, 4, 0, 2, 0, 2, 0, 4, 0, 4, 1, 4, 0, 4, 2, 4, 1, 0, 4, 1, 0, 4, 4, 0, 0, 4, 0, 1, 4, 4, 2, 0, 0, 1, 4, 4, 2, 1, 0, 2, 0, 0, 4, 4, 2, 0, 4, 4, 0, 0, 4, 0, 4, 0, 0, 4, 0, 1, 2, 4, 0, 4, 4, 0, 0, 0, 1, 0, 0, 0, 0, 0, 0, 1, 2, 0, 1, 4, 4, 0, 0, 0, 1, 2, 0, 1, 2, 0, 0, 0, 0, 3, 1, 1, 0, 0, 0, 0, 4, 0, 0, 4, 1, 4, 4, 1, 1, 4, 4, 0, 3, 4, 4, 0, 4, 4, 1, 0, 2, 0, 1, 0, 4, 1, 2, 3, 2, 4, 4, 0, 4, 4, 1, 2, 1, 3, 0, 0, 0, 0, 4, 1, 1, 0, 0, 1, 4, 1, 4, 4, 2, 4, 4, 1, 4, 4, 0, 1, 1, 1, 0, 0, 4, 0, 1, 0, 4, 0, 4, 4, 4, 4, 1, 4, 2, 4, 4, 4, 0, 4, 4, 2, 4, 1, 0, 4, 4, 4, 4, 4, 4, 4, 0, 0, 0, 4, 1, 4, 0, 1, 4, 4, 4, 4, 4, 4, 4, 4, 4, 4, 4, 0, 4, 4, 4, 4, 4, 4, 2, 4, 1, 4, 4, 1, 1, 1, 4, 0, 4, 4, 4, 4, 1, 4, 4, 4, 4, 2, 4, 4, 4, 0, 0, 0, 4, 4, 2, 4, 4, 4, 1, 4, 4, 4, 1, 4, 2, 2, 0, 1, 4, 4, 0, 1, 4, 4, 0, 4, 4, 1, 4, 4, 4, 2, 4, 4, 3, 2, 4, 4, 4, 0, 2, 4, 0, 4, 4, 4, 4, 2, 4, 4, 4, 2, 4, 1, 1, 4, 0, 2, 2, 4, 1, 2, 2, 4, 2, 2, 2, 4, 2, 2, 0, 4, 2, 1, 4, 4, 4, 2, 4, 2, 4, 0, 1, 2, 2, 0, 2, 4, 2, 1, 0, 4, 2, 4, 4, 4, 4, 4, 0, 0, 3, 4, 4, 4, 3, 3, 4, 0, 0, 4, 3, 4, 4, 4, 4, 4, 4, 4, 0, 4, 4, 4, 4, 4, 4, 4, 4, 4, 4, 0, 4, 4, 4, 2, 4, 4, 0, 1, 3, 4, 2, 2, 0, 0, 2, 2, 4, 4, 4, 0, 3, 0, 4, 4, 4, 4, 0, 0, 1, 1, 0, 4, 2, 4, 4, 4, 4, 0, 0, 4, 4, 1, 0, 4, 1, 2, 1, 1, 4, 0, 3, 0, 4, 4, 4, 0, 2, 0, 4, 0, 4, 1, 4, 1, 2, 4, 0, 4, 4, 4, 2, 4, 2, 4, 4, 4, 4, 4, 1, 2, 1, 1, 1, 4, 4, 0, 2, 4, 4, 1, 4, 4, 4, 4, 4, 4, 1, 4, 1, 4, 4, 4, 4, 2, 1, 2, 3, 3, 2, 2, 4, 4, 1, 1, 0, 0, 2, 4, 4, 0, 4, 4, 3] \n",
            " The total number of rewards by this slot machine is 481\n",
            "\n",
            " Rewards by Each Machine :  [115, 125, 63, 26, 152]\n"
          ],
          "name": "stdout"
        }
      ]
    },
    {
      "cell_type": "code",
      "metadata": {
        "id": "EB1wKxNiPj3_",
        "colab_type": "code",
        "colab": {
          "base_uri": "https://localhost:8080/",
          "height": 458
        },
        "outputId": "e9216b58-ce2f-4e37-c113-75528517da8e"
      },
      "source": [
        "plt.rcParams['font.family'] = 'sans-serif'\n",
        "plt.rcParams['font.sans-serif'] = 'Helvetica'\n",
        "plt.figure(figsize=(14,7))\n",
        "plt.hist(slot_selected,bins=5, facecolor = '#2ab0ff', edgecolor='#169acf')\n",
        "plt.title('Selection Of Slot Machines using Beta Distribution') \n",
        "plt.xlabel('Slot Machines')\n",
        "plt.xticks(range(0, 5)) \n",
        "plt.ylabel('Values') \n",
        "plt.show()\n"
      ],
      "execution_count": 131,
      "outputs": [
        {
          "output_type": "display_data",
          "data": {
            "image/png": "[encoded data removed]",
            "text/plain": [
              "<Figure size 1008x504 with 1 Axes>"
            ]
          },
          "metadata": {
            "tags": [],
            "needs_background": "light"
          }
        }
      ]
    },
    {
      "cell_type": "code",
      "metadata": {
        "id": "cB7V7e6iPj6U",
        "colab_type": "code",
        "colab": {
          "base_uri": "https://localhost:8080/",
          "height": 458
        },
        "outputId": "c0155f74-3450-49f1-fb84-5cfaaab409b2"
      },
      "source": [
        "plt.rcParams['font.family'] = 'sans-serif'\n",
        "plt.rcParams['font.sans-serif'] = 'Helvetica'\n",
        "plt.figure(figsize=(14,7))\n",
        "plt.bar(['S1','S2','S3','S4','S5'],rewards, facecolor = '#2ab0ff', edgecolor='#169acf', linewidth=0.5)\n",
        "plt.title('Rewards for each Slot Machine') \n",
        "plt.xlabel('Slot Machines') \n",
        "plt.ylabel('Values') \n",
        "plt.show()"
      ],
      "execution_count": 122,
      "outputs": [
        {
          "output_type": "display_data",
          "data": {
            "image/png": "[encoded data removed]",
            "text/plain": [
              "<Figure size 1008x504 with 1 Axes>"
            ]
          },
          "metadata": {
            "tags": [],
            "needs_background": "light"
          }
        }
      ]
    }
  ]
}