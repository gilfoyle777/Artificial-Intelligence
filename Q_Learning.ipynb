{
  "nbformat": 4,
  "nbformat_minor": 0,
  "metadata": {
    "colab": {
      "name": "Q-Learning.ipynb",
      "provenance": [],
      "authorship_tag": "ABX9TyOkqIydZMGEUGXe3GZ/WO8w",
      "include_colab_link": true
    },
    "kernelspec": {
      "name": "python3",
      "display_name": "Python 3"
    }
  },
  "cells": [
    {
      "cell_type": "markdown",
      "metadata": {
        "id": "view-in-github",
        "colab_type": "text"
      },
      "source": [
        "<a href=\"https://colab.research.google.com/github/gilfoyle777/Artificial-Intelligence/blob/master/Q_Learning.ipynb\" target=\"_parent\"><img src=\"https://colab.research.google.com/assets/colab-badge.svg\" alt=\"Open In Colab\"/></a>"
      ]
    },
    {
      "cell_type": "code",
      "metadata": {
        "id": "6hP7Gq_K6aFi",
        "colab_type": "code",
        "colab": {
          "base_uri": "https://localhost:8080/",
          "height": 51
        },
        "outputId": "55a198cc-3d6d-4494-a604-40066055c1b4"
      },
      "source": [
        "# AI for Logistics - Robots in a warehouse\n",
        "\n",
        "# Importing the libraries\n",
        "import numpy as np\n",
        "\n",
        "# Setting the parameters gamma and alpha for the Q-Learning\n",
        "gamma = 0.75\n",
        "alpha = 0.9\n",
        "\n",
        "# PART 1 - BUILDING THE ENVIRONMENT\n",
        "\n",
        "# Defining the states\n",
        "location_to_state = {'A': 0,\n",
        "                     'B': 1,\n",
        "                     'C': 2,\n",
        "                     'D': 3,\n",
        "                     'E': 4,\n",
        "                     'F': 5,\n",
        "                     'G': 6,\n",
        "                     'H': 7,\n",
        "                     'I': 8,\n",
        "                     'J': 9,\n",
        "                     'K': 10,\n",
        "                     'L': 11}\n",
        "\n",
        "# Defining the actions\n",
        "actions = [0,1,2,3,4,5,6,7,8,9,10,11]\n",
        "\n",
        "# Defining the rewards\n",
        "R = np.array([[0,1,0,0,0,0,0,0,0,0,0,0],\n",
        "              [1,0,1,0,0,1,0,0,0,0,0,0],\n",
        "              [0,1,0,0,0,0,1,0,0,0,0,0],\n",
        "              [0,0,0,0,0,0,0,1,0,0,0,0],\n",
        "              [0,0,0,0,0,0,0,0,1,0,0,0],\n",
        "              [0,1,0,0,0,0,0,0,0,1,0,0],\n",
        "              [0,0,1,0,0,0,1,1,0,0,0,0],\n",
        "              [0,0,0,1,0,0,1,0,0,0,0,1],\n",
        "              [0,0,0,0,1,0,0,0,0,1,0,0],\n",
        "              [0,0,0,0,0,1,0,0,1,0,1,0],\n",
        "              [0,0,0,0,0,0,0,0,0,1,0,1],\n",
        "              [0,0,0,0,0,0,0,1,0,0,1,0]])\n",
        "\n",
        "# PART 2 - BUILDING THE AI SOLUTION WITH Q-LEARNING\n",
        "\n",
        "# Making a mapping from the states to the locations\n",
        "state_to_location = {state: location for location, state in location_to_state.items()}\n",
        "\n",
        "# Making a function that returns the shortest route from a starting to ending location\n",
        "def route(starting_location, ending_location):\n",
        "    R_new = np.copy(R)\n",
        "    ending_state = location_to_state[ending_location]\n",
        "    R_new[ending_state, ending_state] = 1000\n",
        "    Q = np.array(np.zeros([12,12]))\n",
        "    for i in range(1000):\n",
        "        current_state = np.random.randint(0,12)\n",
        "        playable_actions = []\n",
        "        for j in range(12):\n",
        "            if R_new[current_state, j] > 0:\n",
        "                playable_actions.append(j)\n",
        "        next_state = np.random.choice(playable_actions)\n",
        "        TD = R_new[current_state, next_state] + gamma * Q[next_state, np.argmax(Q[next_state,])] - Q[current_state, next_state]\n",
        "        Q[current_state, next_state] = Q[current_state, next_state] + alpha * TD\n",
        "    route = [starting_location]\n",
        "    next_location = starting_location\n",
        "    while (next_location != ending_location):\n",
        "        starting_state = location_to_state[starting_location]\n",
        "        next_state = np.argmax(Q[starting_state,])\n",
        "        next_location = state_to_location[next_state]\n",
        "        route.append(next_location)\n",
        "        starting_location = next_location\n",
        "    return route\n",
        "\n",
        "# PART 3 - GOING INTO PRODUCTION\n",
        "\n",
        "# Printing the final route\n",
        "print('Route:')\n",
        "route('A', 'L')"
      ],
      "execution_count": 4,
      "outputs": [
        {
          "output_type": "stream",
          "text": [
            "Route:\n"
          ],
          "name": "stdout"
        },
        {
          "output_type": "execute_result",
          "data": {
            "text/plain": [
              "['A', 'B', 'F', 'J', 'K', 'L']"
            ]
          },
          "metadata": {
            "tags": []
          },
          "execution_count": 4
        }
      ]
    },
    {
      "cell_type": "code",
      "metadata": {
        "id": "rzy-Luiu4byO",
        "colab_type": "code",
        "colab": {
          "base_uri": "https://localhost:8080/",
          "height": 34
        },
        "outputId": "e6d5c8b3-8587-4e5d-d497-8ee6e3a5c3ef"
      },
      "source": [
        "route('A','L')\n"
      ],
      "execution_count": null,
      "outputs": [
        {
          "output_type": "execute_result",
          "data": {
            "text/plain": [
              "['A', 'B', 'F', 'J', 'K', 'L']"
            ]
          },
          "metadata": {
            "tags": []
          },
          "execution_count": 3
        }
      ]
    },
    {
      "cell_type": "code",
      "metadata": {
        "id": "gQVRcE4i5MdL",
        "colab_type": "code",
        "colab": {}
      },
      "source": [
        "# ADDING AN INTERMEDIATE LOCATION\n",
        "\n",
        "def best_route(starting_loc,intermediate_loc,ending_loc):\n",
        "  final_route=[]\n",
        "  start_intermediate=route(starting_loc,intermediate_loc)\n",
        "  intermediate_ending=route(intermediate_loc,ending_loc)\n",
        "\n",
        "\n",
        "\n",
        "\n",
        "  final_route=start_intermediate+intermediate_ending[1:]\n",
        "\n",
        "\n",
        "  return final_route\n",
        "\n"
      ],
      "execution_count": 26,
      "outputs": []
    },
    {
      "cell_type": "code",
      "metadata": {
        "id": "qkakGaL6p0iT",
        "colab_type": "code",
        "colab": {
          "base_uri": "https://localhost:8080/",
          "height": 51
        },
        "outputId": "0adeb9c8-4ffa-4b39-81e9-413bf7bff8f8"
      },
      "source": [
        "print(\"Route:\")\n",
        "best_route('E','K','G')"
      ],
      "execution_count": 27,
      "outputs": [
        {
          "output_type": "stream",
          "text": [
            "Route:\n"
          ],
          "name": "stdout"
        },
        {
          "output_type": "execute_result",
          "data": {
            "text/plain": [
              "['E', 'I', 'J', 'K', 'L', 'H', 'G']"
            ]
          },
          "metadata": {
            "tags": []
          },
          "execution_count": 27
        }
      ]
    },
    {
      "cell_type": "code",
      "metadata": {
        "id": "Znf0M_nOr3Bf",
        "colab_type": "code",
        "colab": {}
      },
      "source": [
        ""
      ],
      "execution_count": null,
      "outputs": []
    }
  ]
}